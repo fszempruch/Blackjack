{
 "cells": [
  {
   "cell_type": "code",
   "execution_count": 112,
   "metadata": {},
   "outputs": [
    {
     "name": "stdout",
     "output_type": "stream",
     "text": [
      "A of clubs\n"
     ]
    }
   ],
   "source": [
    "import random\n",
    "\n",
    "class Card:\n",
    "\n",
    "    def __init__(self, suit, rank):\n",
    "        self.suit = suit\n",
    "        self.rank = \"A\"\n",
    "    \n",
    "    def __str__(self):\n",
    "        return f\"{self.rank} of {self.suit}\"\n",
    "\n",
    "\n",
    "class Deck:\n",
    "\n",
    "    def __init__(self):\n",
    "        self.cards =[]\n",
    "        suits = [\"spades\", \"clubs\", \"hearts\", \"diamonds\"]\n",
    "        ranks = [\n",
    "                    {\"rank\": \"A\", \"value\": 11},\n",
    "                    {\"rank\": \"2\", \"value\": 2},\n",
    "                    {\"rank\": \"3\", \"value\": 3},\n",
    "                    {\"rank\": \"4\", \"value\": 4},\n",
    "                    {\"rank\": \"5\", \"value\": 5},\n",
    "                    {\"rank\": \"6\", \"value\": 6},\n",
    "                    {\"rank\": \"7\", \"value\": 7},\n",
    "                    {\"rank\": \"8\", \"value\": 8},\n",
    "                    {\"rank\": \"9\", \"value\": 9},\n",
    "                    {\"rank\": \"10\", \"value\": 10},\n",
    "                    {\"rank\": \"J\", \"value\": 10},\n",
    "                    {\"rank\": \"Q\", \"value\": 10},\n",
    "                    {\"rank\": \"K\", \"value\": 10}        \n",
    "                ]\n",
    "        \n",
    "        for suit in suits:\n",
    "            for rank in ranks:\n",
    "                self.cards.append(Card(suit, rank))\n",
    "\n",
    "    def shuffle(self):\n",
    "        if(len(self.cards)  > 1):\n",
    "            random.shuffle(self.cards)\n",
    "\n",
    "    def deal(self, number):\n",
    "        cards_dealt =[]\n",
    "        for x in range(number):\n",
    "            if(len(self.cards) > 0):\n",
    "                card = self.cards.pop()\n",
    "                cards_dealt.append(card)\n",
    "        return cards_dealt\n",
    "    \n",
    "\n",
    "class Hand:\n",
    "\n",
    "    def __init__(self, dealer = False):\n",
    "        self.cards = []\n",
    "        self.value = 0\n",
    "        self.dealer = dealer\n",
    "    \n",
    "    def add_card(self, card_list):\n",
    "        self.cards.extend(card_list)\n",
    "\n",
    "deck = Deck()\n",
    "deck.shuffle()\n",
    "\n",
    "hand = Hand()\n",
    "hand.add_card(deck.deal(2))\n",
    "print(hand.cards[0])"
   ]
  },
  {
   "cell_type": "code",
   "execution_count": null,
   "metadata": {},
   "outputs": [],
   "source": []
  }
 ],
 "metadata": {
  "kernelspec": {
   "display_name": "Python 3",
   "language": "python",
   "name": "python3"
  },
  "language_info": {
   "codemirror_mode": {
    "name": "ipython",
    "version": 3
   },
   "file_extension": ".py",
   "mimetype": "text/x-python",
   "name": "python",
   "nbconvert_exporter": "python",
   "pygments_lexer": "ipython3",
   "version": "3.10.7"
  },
  "orig_nbformat": 4
 },
 "nbformat": 4,
 "nbformat_minor": 2
}
